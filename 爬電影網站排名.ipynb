{
 "cells": [
  {
   "cell_type": "code",
   "execution_count": 1,
   "metadata": {},
   "outputs": [],
   "source": [
    "from requests_html import HTMLSession"
   ]
  },
  {
   "cell_type": "code",
   "execution_count": 26,
   "metadata": {},
   "outputs": [],
   "source": [
    "url = 'https://movie.douban.com/'\n",
    "\n",
    "r = sess.get(url)"
   ]
  },
  {
   "cell_type": "code",
   "execution_count": 38,
   "metadata": {},
   "outputs": [
    {
     "name": "stdout",
     "output_type": "stream",
     "text": [
      "數量為 120\n",
      "理查德·朱维尔的哀歌 Richard Jewell\n",
      "8.3\n"
     ]
    }
   ],
   "source": [
    "movies = r.html.find('li.ui-slide-item')\n",
    "print('數量為',len(movies))\n",
    "print(movies[0].attrs['data-title'])\n",
    "print(movies[0].attrs['data-rate'])"
   ]
  },
  {
   "cell_type": "code",
   "execution_count": 39,
   "metadata": {},
   "outputs": [
    {
     "name": "stdout",
     "output_type": "stream",
     "text": [
      "<Element 'li' class=('ui-slide-item', 's') data-dstat-areaid='70_1' data-dstat-mode='click,expose' data-dstat-watch='.ui-slide-content' data-dstat-viewport='.screening-bd' data-title='理查德·朱维尔的哀歌 Richard Jewell' data-release='2019' data-rate='8.3' data-star='45' data-trailer='https://movie.douban.com/subject/25842038/trailer' data-ticket='https://movie.douban.com/ticket/redirect/?movie_id=25842038' data-duration='129分钟' data-region='美国' data-director='克林特·伊斯特伍德' data-actors='保罗·沃尔特·豪泽 / 山姆·洛克威尔 / 奥利维亚·王尔德' data-intro='' data-enough='true' data-rater='11025'>\n"
     ]
    }
   ],
   "source": [
    "print(movies[0])"
   ]
  },
  {
   "cell_type": "code",
   "execution_count": 43,
   "metadata": {},
   "outputs": [
    {
     "name": "stdout",
     "output_type": "stream",
     "text": [
      "理查德·朱维尔的哀歌 Richard Jewell\n",
      "8.3\n",
      "編號為: 1\n",
      "紫罗兰永恒花园外传：永远与自动手记人偶 ヴァイオレット・エヴァーガーデン 外伝 - 永遠と自動手記人形 -\n",
      "7.6\n",
      "編號為: 2\n",
      "美丽人生 La vita è bella\n",
      "9.5\n",
      "編號為: 3\n",
      "误杀\n",
      "7.6\n",
      "編號為: 4\n",
      "为家而战 Fighting with My Family\n",
      "6.4\n",
      "編號為: 5\n",
      "宠爱\n",
      "6.2\n",
      "編號為: 6\n",
      "叶问4：完结篇 葉問4\n",
      "7.2\n",
      "編號為: 7\n",
      "灭绝 Extinction\n",
      "5.6\n",
      "編號為: 8\n",
      "变身特工 Spies in Disguise\n",
      "7.7\n",
      "編號為: 9\n",
      "动物特工局\n",
      "6.4\n",
      "編號為: 10\n",
      "半个喜剧\n",
      "7.6\n",
      "編號為: 11\n",
      "被光抓走的人\n",
      "7.0\n",
      "編號為: 12\n",
      "鲨海逃生 47 Meters Down: Uncaged\n",
      "5.2\n",
      "編號為: 13\n",
      "利刃出鞘 Knives Out\n",
      "8.2\n",
      "編號為: 14\n",
      "别告诉她 The Farewell\n",
      "7.3\n",
      "編號為: 15\n",
      "野猪\n",
      "\n",
      "編號為: 16\n",
      "士兵顺溜：兵王争锋\n",
      "\n",
      "編號為: 17\n",
      "守望人\n",
      "\n",
      "編號為: 18\n",
      "天使陷落 Angel Has Fallen\n",
      "6.1\n",
      "編號為: 19\n",
      "星球大战9：天行者崛起 Star Wars: The Rise of Skywalker\n",
      "6.5\n",
      "編號為: 20\n"
     ]
    }
   ],
   "source": [
    "count = 0\n",
    "\n",
    "for a in movies:\n",
    "    print(a.attrs['data-title'])\n",
    "    print(a.attrs['data-rate'])\n",
    "    count +=1\n",
    "    print('編號為:',count)\n",
    "    if count ==20:\n",
    "        break"
   ]
  },
  {
   "cell_type": "code",
   "execution_count": null,
   "metadata": {},
   "outputs": [],
   "source": []
  }
 ],
 "metadata": {
  "kernelspec": {
   "display_name": "Python 3",
   "language": "python",
   "name": "python3"
  },
  "language_info": {
   "codemirror_mode": {
    "name": "ipython",
    "version": 3
   },
   "file_extension": ".py",
   "mimetype": "text/x-python",
   "name": "python",
   "nbconvert_exporter": "python",
   "pygments_lexer": "ipython3",
   "version": "3.7.6"
  }
 },
 "nbformat": 4,
 "nbformat_minor": 2
}
