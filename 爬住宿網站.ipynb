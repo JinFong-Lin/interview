{
 "cells": [
  {
   "cell_type": "code",
   "execution_count": 1,
   "metadata": {},
   "outputs": [],
   "source": [
    "import time\n",
    "from selenium import webdriver\n",
    "from selenium.webdriver.common.keys import Keys"
   ]
  },
  {
   "cell_type": "code",
   "execution_count": 17,
   "metadata": {},
   "outputs": [
    {
     "name": "stdout",
     "output_type": "stream",
     "text": [
      "富盛商旅市政館 (GoGo Hotel)\n",
      "西屯區\n",
      "3.5 星級\n",
      "NT$1,663\n"
     ]
    }
   ],
   "source": [
    "city = '台北市'\n",
    "in_time = '2019-1-20'\n",
    "out_time = '2019-1-21'\n",
    "\n",
    "url = 'https://tw.hotels.com/'\n",
    "drive = 'E:/gekodrive/chromedriver.exe'\n",
    "\n",
    "brow = webdriver.Chrome(executable_path=drive)\n",
    "brow.implicitly_wait(1)\n",
    "brow.get(url)\n",
    "time.sleep(1)\n",
    "search = brow.find_elements_by_xpath(\"//input[contains(@name,'q-destination')]\")\n",
    "intime = brow.find_elements_by_xpath(\"//input[contains(@id,'q-localised-check-in')]\")\n",
    "outime = brow.find_elements_by_xpath(\"//input[contains(@id,'q-localised-check-out')]\")\n",
    "avb = brow.find_elements_by_xpath(\"//div[contains(@class,'widget-query-group widget-query-ft')]/button\")\n",
    "\n",
    "search[0].clear()\n",
    "city = '台中'\n",
    "search[0].send_keys(city)\n",
    "time.sleep(2)\n",
    "\n",
    "intime[0].clear()\n",
    "in_ = '2020-1-20'\n",
    "intime[0].send_keys(in_)\n",
    "time.sleep(2)\n",
    "outime[0].clear()\n",
    "out = '2020-1-21'\n",
    "outime[0].send_keys(out)\n",
    "time.sleep(2)\n",
    "time.sleep(2)\n",
    "#outime[0].sned_keys(Keys.ENTER)\n",
    "time.sleep(2)\n",
    "avb[0].send_keys(Keys.ENTER)\n",
    "time.sleep(3)\n",
    "\n",
    "\n",
    "hotelpath =\"//ol[(@class='listings infinite-scroll-enabled')]//h3/a\"\n",
    "addresspath = brow.find_elements_by_xpath(\"//ol[(@class='listings infinite-scroll-enabled')]//a[(@class='map-link xs-welcome-rewards')]\")\n",
    "starpath = brow.find_elements_by_xpath(\"//ol[@class='listings infinite-scroll-enabled']//span[@class='star-rating-text']\")\n",
    "pricepath = brow.find_elements_by_xpath(\"//ol[(@class='listings infinite-scroll-enabled')]//ins\")\n",
    "names = brow.find_elements_by_xpath(hotelpath)\n",
    "name = names[0].text\n",
    "print(name)\n",
    "print(addresspath[0].text)\n",
    "print(starpath[0].text)\n",
    "print(pricepath[0].text)"
   ]
  },
  {
   "cell_type": "code",
   "execution_count": 20,
   "metadata": {
    "scrolled": true
   },
   "outputs": [
    {
     "ename": "TypeError",
     "evalue": "object of type 'WebElement' has no len()",
     "output_type": "error",
     "traceback": [
      "\u001b[1;31m---------------------------------------------------------------------------\u001b[0m",
      "\u001b[1;31mTypeError\u001b[0m                                 Traceback (most recent call last)",
      "\u001b[1;32m<ipython-input-20-36a1bfbfd984>\u001b[0m in \u001b[0;36m<module>\u001b[1;34m\u001b[0m\n\u001b[1;32m----> 1\u001b[1;33m \u001b[0mprint\u001b[0m\u001b[1;33m(\u001b[0m\u001b[1;34m'旅館數量:'\u001b[0m\u001b[1;33m,\u001b[0m\u001b[0mlen\u001b[0m\u001b[1;33m(\u001b[0m\u001b[0mname\u001b[0m\u001b[1;33m)\u001b[0m\u001b[1;33m)\u001b[0m\u001b[1;33m\u001b[0m\u001b[1;33m\u001b[0m\u001b[0m\n\u001b[0m\u001b[0;32m      2\u001b[0m \u001b[0mprint\u001b[0m\u001b[1;33m(\u001b[0m\u001b[1;34m'-'\u001b[0m\u001b[1;33m*\u001b[0m\u001b[1;36m20\u001b[0m\u001b[1;33m)\u001b[0m\u001b[1;33m\u001b[0m\u001b[1;33m\u001b[0m\u001b[0m\n\u001b[0;32m      3\u001b[0m \u001b[1;32mfor\u001b[0m \u001b[0mname\u001b[0m\u001b[1;33m,\u001b[0m\u001b[0maddre\u001b[0m\u001b[1;33m,\u001b[0m\u001b[0mstar\u001b[0m\u001b[1;33m,\u001b[0m\u001b[0mprice\u001b[0m \u001b[1;32min\u001b[0m \u001b[0mzip\u001b[0m\u001b[1;33m(\u001b[0m\u001b[0mnames\u001b[0m\u001b[1;33m,\u001b[0m\u001b[0maddresspath\u001b[0m\u001b[1;33m,\u001b[0m\u001b[0mstarpath\u001b[0m\u001b[1;33m,\u001b[0m\u001b[0mpricepath\u001b[0m\u001b[1;33m)\u001b[0m\u001b[1;33m:\u001b[0m\u001b[1;33m\u001b[0m\u001b[1;33m\u001b[0m\u001b[0m\n\u001b[0;32m      4\u001b[0m     \u001b[0mprint\u001b[0m\u001b[1;33m(\u001b[0m\u001b[1;34m'旅館名稱:'\u001b[0m\u001b[1;33m,\u001b[0m\u001b[0mname\u001b[0m\u001b[1;33m.\u001b[0m\u001b[0mtext\u001b[0m\u001b[1;33m)\u001b[0m\u001b[1;33m\u001b[0m\u001b[1;33m\u001b[0m\u001b[0m\n\u001b[0;32m      5\u001b[0m     \u001b[0mprint\u001b[0m\u001b[1;33m(\u001b[0m\u001b[1;34m'旅館位置:'\u001b[0m\u001b[1;33m,\u001b[0m\u001b[0maddre\u001b[0m\u001b[1;33m.\u001b[0m\u001b[0mtext\u001b[0m\u001b[1;33m)\u001b[0m\u001b[1;33m\u001b[0m\u001b[1;33m\u001b[0m\u001b[0m\n",
      "\u001b[1;31mTypeError\u001b[0m: object of type 'WebElement' has no len()"
     ]
    }
   ],
   "source": [
    "print('旅館數量:',len(name))\n",
    "print('-'*20)\n",
    "for name,addre,star,price in zip(names,addresspath,starpath,pricepath):\n",
    "    print('旅館名稱:',name.text)\n",
    "    print('旅館位置:',addre.text)\n",
    "    print('旅館星級:',star.text)\n",
    "    print('旅館價格:',price.text)\n",
    "    print('')\n",
    "    time.sleep(1)"
   ]
  },
  {
   "cell_type": "code",
   "execution_count": null,
   "metadata": {},
   "outputs": [],
   "source": []
  },
  {
   "cell_type": "code",
   "execution_count": null,
   "metadata": {},
   "outputs": [],
   "source": []
  },
  {
   "cell_type": "code",
   "execution_count": null,
   "metadata": {},
   "outputs": [],
   "source": []
  }
 ],
 "metadata": {
  "kernelspec": {
   "display_name": "Python 3",
   "language": "python",
   "name": "python3"
  },
  "language_info": {
   "codemirror_mode": {
    "name": "ipython",
    "version": 3
   },
   "file_extension": ".py",
   "mimetype": "text/x-python",
   "name": "python",
   "nbconvert_exporter": "python",
   "pygments_lexer": "ipython3",
   "version": "3.7.6"
  }
 },
 "nbformat": 4,
 "nbformat_minor": 2
}
