{
 "cells": [
  {
   "cell_type": "code",
   "execution_count": 1,
   "metadata": {},
   "outputs": [],
   "source": [
    "import pandas as pd\n",
    "from sklearn import preprocessing\n",
    "#標準化模組\n",
    "from sklearn.decomposition import PCA\n",
    "#主成分分析"
   ]
  },
  {
   "cell_type": "code",
   "execution_count": 2,
   "metadata": {},
   "outputs": [],
   "source": [
    "from sklearn.tree import DecisionTreeClassifier\n",
    "#決策樹分類器\n",
    "from sklearn.tree import DecisionTreeRegressor\n",
    "#決策樹迴歸器\n",
    "from sklearn.ensemble import RandomForestClassifier\n",
    "from sklearn.ensemble import RandomForestRegressor\n",
    "\n",
    "#載入決策樹模組"
   ]
  },
  {
   "cell_type": "code",
   "execution_count": 3,
   "metadata": {},
   "outputs": [],
   "source": [
    "from sklearn.model_selection import train_test_split\n",
    "#分訓練驗證模組\n",
    "from sklearn import  metrics\n",
    "from sklearn.model_selection import KFold, cross_val_score\n",
    "from sklearn.pipeline import make_pipeline\n",
    "from sklearn.metrics import accuracy_score\n",
    "#驗證模組正確性"
   ]
  },
  {
   "cell_type": "code",
   "execution_count": 4,
   "metadata": {},
   "outputs": [
    {
     "name": "stderr",
     "output_type": "stream",
     "text": [
      "C:\\Users\\gg246\\Anaconda3\\lib\\site-packages\\sklearn\\externals\\joblib\\__init__.py:15: FutureWarning: sklearn.externals.joblib is deprecated in 0.21 and will be removed in 0.23. Please import this functionality directly from joblib, which can be installed with: pip install joblib. If this warning is raised when loading pickled models, you may need to re-serialize those models with scikit-learn 0.21+.\n",
      "  warnings.warn(msg, category=FutureWarning)\n"
     ]
    }
   ],
   "source": [
    "from sklearn.externals import joblib\n",
    "#載入儲存模型模組"
   ]
  },
  {
   "cell_type": "code",
   "execution_count": 5,
   "metadata": {},
   "outputs": [],
   "source": [
    "motor = pd.read_csv('E:/dd/MOTOR.csv',encoding='big5')\n",
    "#載入資料"
   ]
  },
  {
   "cell_type": "code",
   "execution_count": 6,
   "metadata": {},
   "outputs": [],
   "source": [
    "feature = motor.drop(['漲幅'],axis=1)\n",
    "#自變數"
   ]
  },
  {
   "cell_type": "code",
   "execution_count": 7,
   "metadata": {},
   "outputs": [],
   "source": [
    "target = motor['漲幅']\n",
    "#應變數"
   ]
  },
  {
   "cell_type": "code",
   "execution_count": 8,
   "metadata": {},
   "outputs": [],
   "source": [
    "sca = preprocessing.StandardScaler()\n",
    "#設定縮放器\n",
    "feature = sca.fit_transform(feature)\n",
    "#將自變數標準化"
   ]
  },
  {
   "cell_type": "code",
   "execution_count": 9,
   "metadata": {},
   "outputs": [],
   "source": [
    "pca = PCA(n_components=0.99, whiten=True)\n",
    "#設定主成分分析,保留99%的變異\n",
    "fea_pca = pca.fit_transform(feature)"
   ]
  },
  {
   "cell_type": "code",
   "execution_count": 10,
   "metadata": {},
   "outputs": [
    {
     "name": "stdout",
     "output_type": "stream",
     "text": [
      "(22793, 17)\n",
      "(22793, 7)\n"
     ]
    }
   ],
   "source": [
    "print(feature.shape)\n",
    "print(fea_pca.shape)\n",
    "#主成分分析後17格自變數 縮小為七個自變數"
   ]
  },
  {
   "cell_type": "code",
   "execution_count": 11,
   "metadata": {},
   "outputs": [],
   "source": [
    "fea_train,fea_test,tar_train,tar_test=train_test_split(feature,target,test_size=1/3, random_state=0)\n",
    "fpca_train,fpca_test,tpca_train,tpca_test=train_test_split(fea_pca,target,test_size=1/3, random_state=0)\n",
    "#將主成分分析 以及 沒有pca過的資料 分為兩組作為訓練測試用 比例為2:1"
   ]
  },
  {
   "cell_type": "code",
   "execution_count": 12,
   "metadata": {},
   "outputs": [],
   "source": [
    "#產生決策分類器物件\n",
    "decisiontree = DecisionTreeClassifier(random_state=0)"
   ]
  },
  {
   "cell_type": "code",
   "execution_count": 13,
   "metadata": {},
   "outputs": [],
   "source": [
    "model1 = decisiontree.fit(fea_train,tar_train)\n",
    "#訓練模組"
   ]
  },
  {
   "cell_type": "code",
   "execution_count": 14,
   "metadata": {},
   "outputs": [],
   "source": [
    "kf = KFold(n_splits=10, shuffle=True, random_state=1)"
   ]
  },
  {
   "cell_type": "code",
   "execution_count": 15,
   "metadata": {},
   "outputs": [],
   "source": [
    "cv_results = cross_val_score(model1,\n",
    "                            feature,\n",
    "                            target,\n",
    "                            cv=kf,\n",
    "                            scoring=\"accuracy\",\n",
    "                            n_jobs=2)"
   ]
  },
  {
   "cell_type": "code",
   "execution_count": 16,
   "metadata": {},
   "outputs": [
    {
     "name": "stdout",
     "output_type": "stream",
     "text": [
      "[0.56666667 0.57631579 0.57149123 0.58139535 0.55419043 0.59324265\n",
      " 0.56603774 0.57218078 0.56296621 0.56823168]\n",
      "0.5712718528440451\n"
     ]
    }
   ],
   "source": [
    "print(cv_results)\n",
    "print(cv_results.mean())  #十次平均0.57 十次交叉驗證"
   ]
  },
  {
   "cell_type": "code",
   "execution_count": 17,
   "metadata": {},
   "outputs": [
    {
     "data": {
      "text/plain": [
       "0.5585680442221638"
      ]
     },
     "execution_count": 17,
     "metadata": {},
     "output_type": "execute_result"
    }
   ],
   "source": [
    "y_hat = model1.predict(fea_test)\n",
    "accuracy_score(tar_test,y_hat)\n",
    "#預測準確度55%"
   ]
  },
  {
   "cell_type": "code",
   "execution_count": 18,
   "metadata": {},
   "outputs": [],
   "source": [
    "model2 = decisiontree.fit(fpca_train,tpca_train)"
   ]
  },
  {
   "cell_type": "code",
   "execution_count": 19,
   "metadata": {},
   "outputs": [],
   "source": [
    "cv_results2 = cross_val_score(model2,\n",
    "                            fea_pca,\n",
    "                            target,\n",
    "                            cv=kf,\n",
    "                            scoring=\"accuracy\",\n",
    "                            n_jobs=2)"
   ]
  },
  {
   "cell_type": "code",
   "execution_count": 20,
   "metadata": {},
   "outputs": [
    {
     "name": "stdout",
     "output_type": "stream",
     "text": [
      "[0.53596491 0.55307018 0.52324561 0.53795524 0.53532251 0.53839403\n",
      " 0.52961825 0.56033348 0.5436595  0.54409829]\n",
      "0.5401662009345435\n"
     ]
    }
   ],
   "source": [
    "print(cv_results2)\n",
    "print(cv_results2.mean()) #十次平均0.54"
   ]
  },
  {
   "cell_type": "code",
   "execution_count": 21,
   "metadata": {},
   "outputs": [
    {
     "data": {
      "text/plain": [
       "0.538036325348776"
      ]
     },
     "execution_count": 21,
     "metadata": {},
     "output_type": "execute_result"
    }
   ],
   "source": [
    "y_hat = model2.predict(fpca_test)\n",
    "accuracy_score(tpca_test,y_hat)\n",
    "#預測準確度53%"
   ]
  },
  {
   "cell_type": "code",
   "execution_count": 22,
   "metadata": {},
   "outputs": [
    {
     "name": "stdout",
     "output_type": "stream",
     "text": [
      "DecisionTreeClassifier(ccp_alpha=0.0, class_weight=None, criterion='gini',\n",
      "                       max_depth=None, max_features=None, max_leaf_nodes=None,\n",
      "                       min_impurity_decrease=0.0, min_impurity_split=None,\n",
      "                       min_samples_leaf=1, min_samples_split=2,\n",
      "                       min_weight_fraction_leaf=0.0, presort='deprecated',\n",
      "                       random_state=0, splitter='best')\n"
     ]
    }
   ],
   "source": [
    "print(model1)"
   ]
  },
  {
   "cell_type": "code",
   "execution_count": 23,
   "metadata": {},
   "outputs": [],
   "source": [
    "decisiontree = DecisionTreeRegressor(random_state=0)\n",
    "#決策樹回歸器"
   ]
  },
  {
   "cell_type": "code",
   "execution_count": 24,
   "metadata": {},
   "outputs": [],
   "source": [
    "model3 = decisiontree.fit(fea_train,tar_train)"
   ]
  },
  {
   "cell_type": "code",
   "execution_count": 25,
   "metadata": {},
   "outputs": [],
   "source": [
    "cv_results3 = cross_val_score(model3,\n",
    "                            feature,\n",
    "                            target,\n",
    "                            cv=kf,\n",
    "                            scoring=\"accuracy\",\n",
    "                            n_jobs=2)"
   ]
  },
  {
   "cell_type": "code",
   "execution_count": 26,
   "metadata": {},
   "outputs": [
    {
     "name": "stdout",
     "output_type": "stream",
     "text": [
      "[0.56052632 0.58464912 0.57149123 0.58490566 0.56647652 0.58929355\n",
      " 0.5713032  0.56603774 0.56164985 0.55989469]\n",
      "0.5716227877724147\n"
     ]
    }
   ],
   "source": [
    "print(cv_results3)\n",
    "print(cv_results3.mean()) #十次平均0.57"
   ]
  },
  {
   "cell_type": "code",
   "execution_count": 27,
   "metadata": {},
   "outputs": [
    {
     "data": {
      "text/plain": [
       "0.5613319294551198"
      ]
     },
     "execution_count": 27,
     "metadata": {},
     "output_type": "execute_result"
    }
   ],
   "source": [
    "y_hat3 = model3.predict(fea_test)\n",
    "accuracy_score(tar_test,y_hat3)\n",
    "#預測準確度56%"
   ]
  },
  {
   "cell_type": "code",
   "execution_count": 28,
   "metadata": {},
   "outputs": [],
   "source": [
    "model4 = decisiontree.fit(fpca_train,tpca_train)"
   ]
  },
  {
   "cell_type": "code",
   "execution_count": 29,
   "metadata": {},
   "outputs": [],
   "source": [
    "cv_results4 = cross_val_score(model4,\n",
    "                            fea_pca,\n",
    "                            target,\n",
    "                            cv=kf,\n",
    "                            scoring=\"accuracy\",\n",
    "                            n_jobs=2)"
   ]
  },
  {
   "cell_type": "code",
   "execution_count": 30,
   "metadata": {},
   "outputs": [
    {
     "name": "stdout",
     "output_type": "stream",
     "text": [
      "[0.53859649 0.55263158 0.52807018 0.53532251 0.53795524 0.53312857\n",
      " 0.52610794 0.56252742 0.53663888 0.54102677]\n",
      "0.5392005573389375\n"
     ]
    }
   ],
   "source": [
    "print(cv_results4)\n",
    "print(cv_results4.mean()) #十次平均0.54"
   ]
  },
  {
   "cell_type": "code",
   "execution_count": 31,
   "metadata": {},
   "outputs": [
    {
     "data": {
      "text/plain": [
       "0.5414582784943406"
      ]
     },
     "execution_count": 31,
     "metadata": {},
     "output_type": "execute_result"
    }
   ],
   "source": [
    "y_hat4 = model4.predict(fpca_test)\n",
    "accuracy_score(tpca_test,y_hat4)\n",
    "#預測準確度54%"
   ]
  },
  {
   "cell_type": "code",
   "execution_count": 46,
   "metadata": {},
   "outputs": [],
   "source": [
    "randomforest = RandomForestClassifier(criterion='entropy',random_state=0 , n_jobs=-1)\n",
    "#隨機林分類器訓練"
   ]
  },
  {
   "cell_type": "code",
   "execution_count": 33,
   "metadata": {},
   "outputs": [],
   "source": [
    "model5=randomforest.fit(fea_train,tar_train)"
   ]
  },
  {
   "cell_type": "code",
   "execution_count": 34,
   "metadata": {},
   "outputs": [],
   "source": [
    "cv_results5 = cross_val_score(model5,\n",
    "                            feature,\n",
    "                            target,\n",
    "                            cv=kf,\n",
    "                            scoring=\"accuracy\",\n",
    "                            n_jobs=2)"
   ]
  },
  {
   "cell_type": "code",
   "execution_count": 35,
   "metadata": {},
   "outputs": [
    {
     "name": "stdout",
     "output_type": "stream",
     "text": [
      "[0.66622807 0.67938596 0.65833333 0.67792892 0.65028521 0.68231681\n",
      " 0.68187802 0.66871435 0.67705134 0.65949978]\n",
      "0.6701621787025704\n"
     ]
    }
   ],
   "source": [
    "print(cv_results5)\n",
    "print(cv_results5.mean()) #十次平均0.67"
   ]
  },
  {
   "cell_type": "code",
   "execution_count": 36,
   "metadata": {},
   "outputs": [
    {
     "data": {
      "text/plain": [
       "0.6484601210844959"
      ]
     },
     "execution_count": 36,
     "metadata": {},
     "output_type": "execute_result"
    }
   ],
   "source": [
    "y_hat5 = model5.predict(fea_test)\n",
    "accuracy_score(tar_test,y_hat5)\n",
    "#預測準確度64%"
   ]
  },
  {
   "cell_type": "code",
   "execution_count": 37,
   "metadata": {},
   "outputs": [],
   "source": [
    "model6=randomforest.fit(fpca_train,tpca_train)"
   ]
  },
  {
   "cell_type": "code",
   "execution_count": 38,
   "metadata": {},
   "outputs": [],
   "source": [
    "cv_results6 = cross_val_score(model6,\n",
    "                            fea_pca,\n",
    "                            target,\n",
    "                            cv=kf,\n",
    "                            scoring=\"accuracy\",\n",
    "                            n_jobs=2)"
   ]
  },
  {
   "cell_type": "code",
   "execution_count": 39,
   "metadata": {},
   "outputs": [
    {
     "name": "stdout",
     "output_type": "stream",
     "text": [
      "[0.58464912 0.60131579 0.57368421 0.58885476 0.58402808 0.59368144\n",
      " 0.58753839 0.59148749 0.58446687 0.58051777]\n",
      "0.5870223936321717\n"
     ]
    }
   ],
   "source": [
    "print(cv_results6)\n",
    "print(cv_results6.mean()) #十次平均0.58"
   ]
  },
  {
   "cell_type": "code",
   "execution_count": 40,
   "metadata": {},
   "outputs": [
    {
     "data": {
      "text/plain": [
       "0.5748881284548566"
      ]
     },
     "execution_count": 40,
     "metadata": {},
     "output_type": "execute_result"
    }
   ],
   "source": [
    "y_hat6 = model6.predict(fpca_test)\n",
    "accuracy_score(tpca_test,y_hat6) \n",
    "#預測準確度57%"
   ]
  },
  {
   "cell_type": "code",
   "execution_count": 41,
   "metadata": {},
   "outputs": [
    {
     "data": {
      "text/plain": [
       "['finally.pkl']"
      ]
     },
     "execution_count": 41,
     "metadata": {},
     "output_type": "execute_result"
    }
   ],
   "source": [
    "joblib.dump(model5,'finally.pkl')\n",
    "#將準確度最高模組,儲存成pkl檔"
   ]
  },
  {
   "cell_type": "code",
   "execution_count": 42,
   "metadata": {},
   "outputs": [],
   "source": [
    "from sklearn.model_selection import GridSearchCV"
   ]
  },
  {
   "cell_type": "code",
   "execution_count": 65,
   "metadata": {},
   "outputs": [],
   "source": [
    "RF_param = {'n_estimators':[450,500,550,600],'max_depth':[55,58,60,62,65]}"
   ]
  },
  {
   "cell_type": "code",
   "execution_count": 66,
   "metadata": {},
   "outputs": [],
   "source": [
    "GSCV = GridSearchCV(randomforest,param_grid=RF_param,cv=5)"
   ]
  },
  {
   "cell_type": "code",
   "execution_count": 67,
   "metadata": {},
   "outputs": [
    {
     "data": {
      "text/plain": [
       "GridSearchCV(cv=5, error_score=nan,\n",
       "             estimator=RandomForestClassifier(bootstrap=True, ccp_alpha=0.0,\n",
       "                                              class_weight=None,\n",
       "                                              criterion='entropy',\n",
       "                                              max_depth=None,\n",
       "                                              max_features='auto',\n",
       "                                              max_leaf_nodes=None,\n",
       "                                              max_samples=None,\n",
       "                                              min_impurity_decrease=0.0,\n",
       "                                              min_impurity_split=None,\n",
       "                                              min_samples_leaf=1,\n",
       "                                              min_samples_split=2,\n",
       "                                              min_weight_fraction_leaf=0.0,\n",
       "                                              n_estimators=100, n_jobs=-1,\n",
       "                                              oob_score=False, random_state=0,\n",
       "                                              verbose=0, warm_start=False),\n",
       "             iid='deprecated', n_jobs=None,\n",
       "             param_grid={'max_depth': [55, 58, 60, 62, 65],\n",
       "                         'n_estimators': [450, 500, 550, 600]},\n",
       "             pre_dispatch='2*n_jobs', refit=True, return_train_score=False,\n",
       "             scoring=None, verbose=0)"
      ]
     },
     "execution_count": 67,
     "metadata": {},
     "output_type": "execute_result"
    }
   ],
   "source": [
    "GSCV.fit(fea_train,tar_train)"
   ]
  },
  {
   "cell_type": "code",
   "execution_count": 68,
   "metadata": {
    "scrolled": true
   },
   "outputs": [
    {
     "name": "stdout",
     "output_type": "stream",
     "text": [
      "準確度: 0.6568833903658857\n",
      "最好的模組參數: {'max_depth': 60, 'n_estimators': 600}\n"
     ]
    }
   ],
   "source": [
    "print('準確度:',GSCV.score(fea_test,tar_test))\n",
    "print('最好的模組參數:',GSCV.best_params_)"
   ]
  },
  {
   "cell_type": "code",
   "execution_count": null,
   "metadata": {},
   "outputs": [],
   "source": [
    "700,60 = 0.66"
   ]
  }
 ],
 "metadata": {
  "kernelspec": {
   "display_name": "Python 3",
   "language": "python",
   "name": "python3"
  },
  "language_info": {
   "codemirror_mode": {
    "name": "ipython",
    "version": 3
   },
   "file_extension": ".py",
   "mimetype": "text/x-python",
   "name": "python",
   "nbconvert_exporter": "python",
   "pygments_lexer": "ipython3",
   "version": "3.7.6"
  }
 },
 "nbformat": 4,
 "nbformat_minor": 2
}
