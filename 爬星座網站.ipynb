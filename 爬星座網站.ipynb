{
 "cells": [
  {
   "cell_type": "code",
   "execution_count": 24,
   "metadata": {},
   "outputs": [],
   "source": [
    "import requests , bs4 , json ,csv,os"
   ]
  },
  {
   "cell_type": "code",
   "execution_count": 26,
   "metadata": {},
   "outputs": [
    {
     "name": "stdout",
     "output_type": "stream",
     "text": [
      "十二星座今日运势2020年01月11日\n",
      "白羊座\n",
      "3.21-4.19\n",
      "整体运势：\n",
      "你需要将用功用对地方，不然很可能会成无用功。工...[详细]\n",
      "金牛座\n",
      "4.20-5.20\n",
      "整体运势：\n",
      "你容易跟别人较劲，过重的好胜心会让你注意力都放...[详细]\n",
      "双子座\n",
      "5.21-6.21\n",
      "整体运势：\n",
      "将会是轻松自在的一天，你会有更多自由选择权。工...[详细]\n",
      "巨蟹座\n",
      "6.22-7.22\n",
      "整体运势：\n",
      "你会有很强烈的危机心理，也正好督促着你不断向前...[详细]\n",
      "狮子座\n",
      "7.23-8.22\n",
      "整体运势：\n",
      "你的运势比较严峻，容易陷入腹背受敌的形势中。工...[详细]\n",
      "处女座\n",
      "8.23-9.22\n",
      "整体运势：\n",
      "你容易受到杂乱心思的影响，会出现拖沓的情况。工...[详细]\n",
      "天秤座\n",
      "9.23-10.23\n",
      "整体运势：\n",
      "整体运势好坏都有，遇到好事时也不能得意忘形。工...[详细]\n",
      "天蝎座\n",
      "10.24-11.22\n",
      "整体运势：\n",
      "片刻消停都不能，你将会开启奔波忙碌的一天。工作...[详细]\n",
      "射手座\n",
      "11.23-12.21\n",
      "整体运势：\n",
      "体运势还是可以，但感情会特别不顺利，甚至还会翻...[详细]\n",
      "摩羯座\n",
      "12.22-1.19\n",
      "整体运势：\n",
      "你需要冷静处理一些麻烦的事情，不能受到情绪的蒙...[详细]\n",
      "水瓶座\n",
      "1.20-2.18\n",
      "整体运势：\n",
      "或许实际收获不多，但你很享受这努力的过程。工作...[详细]\n",
      "双鱼座\n",
      "2.19-3.20\n",
      "整体运势：\n",
      "整体运势还可以，你的重心会偏向自己感兴趣的方面...[详细]\n"
     ]
    },
    {
     "ename": "AttributeError",
     "evalue": "ResultSet object has no attribute 'find_all'. You're probably treating a list of items like a single item. Did you call find_all() when you meant to call find()?",
     "output_type": "error",
     "traceback": [
      "\u001b[1;31m---------------------------------------------------------------------------\u001b[0m",
      "\u001b[1;31mAttributeError\u001b[0m                            Traceback (most recent call last)",
      "\u001b[1;32m<ipython-input-26-6f82c257b70c>\u001b[0m in \u001b[0;36m<module>\u001b[1;34m\u001b[0m\n\u001b[0;32m     17\u001b[0m \u001b[1;31m#標題 名稱 日期 整體運勢 星座運勢\u001b[0m\u001b[1;33m\u001b[0m\u001b[1;33m\u001b[0m\u001b[1;33m\u001b[0m\u001b[0m\n\u001b[0;32m     18\u001b[0m \u001b[1;33m\u001b[0m\u001b[0m\n\u001b[1;32m---> 19\u001b[1;33m \u001b[0mtt\u001b[0m \u001b[1;33m=\u001b[0m \u001b[0mtitles\u001b[0m\u001b[1;33m.\u001b[0m\u001b[0mfind_all\u001b[0m\u001b[1;33m(\u001b[0m\u001b[1;34m'a'\u001b[0m\u001b[1;33m,\u001b[0m\u001b[1;34m'img'\u001b[0m\u001b[1;33m)\u001b[0m\u001b[1;33m\u001b[0m\u001b[1;33m\u001b[0m\u001b[0m\n\u001b[0m\u001b[0;32m     20\u001b[0m \u001b[0mprint\u001b[0m\u001b[1;33m(\u001b[0m\u001b[0mtt\u001b[0m\u001b[1;33m)\u001b[0m\u001b[1;33m\u001b[0m\u001b[1;33m\u001b[0m\u001b[0m\n",
      "\u001b[1;32m~\\Anaconda3\\lib\\site-packages\\bs4\\element.py\u001b[0m in \u001b[0;36m__getattr__\u001b[1;34m(self, key)\u001b[0m\n\u001b[0;32m   1576\u001b[0m     \u001b[1;32mdef\u001b[0m \u001b[0m__getattr__\u001b[0m\u001b[1;33m(\u001b[0m\u001b[0mself\u001b[0m\u001b[1;33m,\u001b[0m \u001b[0mkey\u001b[0m\u001b[1;33m)\u001b[0m\u001b[1;33m:\u001b[0m\u001b[1;33m\u001b[0m\u001b[1;33m\u001b[0m\u001b[0m\n\u001b[0;32m   1577\u001b[0m         raise AttributeError(\n\u001b[1;32m-> 1578\u001b[1;33m             \u001b[1;34m\"ResultSet object has no attribute '%s'. You're probably treating a list of items like a single item. Did you call find_all() when you meant to call find()?\"\u001b[0m \u001b[1;33m%\u001b[0m \u001b[0mkey\u001b[0m\u001b[1;33m\u001b[0m\u001b[1;33m\u001b[0m\u001b[0m\n\u001b[0m\u001b[0;32m   1579\u001b[0m         )\n",
      "\u001b[1;31mAttributeError\u001b[0m: ResultSet object has no attribute 'find_all'. You're probably treating a list of items like a single item. Did you call find_all() when you meant to call find()?"
     ]
    }
   ],
   "source": [
    "url = 'https://www.xzw.com/fortune/'\n",
    "html = requests.get(url)\n",
    "obj = bs4.BeautifulSoup(html.text,'lxml')\n",
    "\n",
    "titless =obj.find('div',id='list')\n",
    "print(titless.find('h1').text)\n",
    "titles = titless.find('div','alb').find_all('div')\n",
    "for title in titles:\n",
    "    tt = title.find('dd').find('strong')\n",
    "    print(tt.text)\n",
    "    date = title.find('dd').find('small')\n",
    "    print(date.text)\n",
    "    span = title.find('dd').find('span')\n",
    "    print(span.text)\n",
    "    body = title.find('dd').find('p')\n",
    "    print(body.text)\n",
    "#標題 名稱 日期 整體運勢 星座運勢\n"
   ]
  },
  {
   "cell_type": "code",
   "execution_count": 34,
   "metadata": {},
   "outputs": [
    {
     "name": "stdout",
     "output_type": "stream",
     "text": [
      "圖片數量為: 12\n"
     ]
    },
    {
     "ename": "AttributeError",
     "evalue": "'str' object has no attribute 'iter_content'",
     "output_type": "error",
     "traceback": [
      "\u001b[1;31m---------------------------------------------------------------------------\u001b[0m",
      "\u001b[1;31mAttributeError\u001b[0m                            Traceback (most recent call last)",
      "\u001b[1;32m<ipython-input-34-826ac22000a5>\u001b[0m in \u001b[0;36m<module>\u001b[1;34m\u001b[0m\n\u001b[0;32m     13\u001b[0m \u001b[1;32mfor\u001b[0m \u001b[0mph\u001b[0m \u001b[1;32min\u001b[0m \u001b[0mphotos\u001b[0m\u001b[1;33m:\u001b[0m\u001b[1;33m\u001b[0m\u001b[1;33m\u001b[0m\u001b[0m\n\u001b[0;32m     14\u001b[0m     \u001b[0mpict\u001b[0m \u001b[1;33m=\u001b[0m \u001b[0mopen\u001b[0m\u001b[1;33m(\u001b[0m\u001b[0mos\u001b[0m\u001b[1;33m.\u001b[0m\u001b[0mpath\u001b[0m\u001b[1;33m.\u001b[0m\u001b[0mjoin\u001b[0m\u001b[1;33m(\u001b[0m\u001b[0mdesDir\u001b[0m\u001b[1;33m,\u001b[0m\u001b[0mos\u001b[0m\u001b[1;33m.\u001b[0m\u001b[0mpath\u001b[0m\u001b[1;33m.\u001b[0m\u001b[0mbasename\u001b[0m\u001b[1;33m(\u001b[0m\u001b[0mph\u001b[0m\u001b[1;33m)\u001b[0m\u001b[1;33m)\u001b[0m\u001b[1;33m,\u001b[0m\u001b[1;34m'wb'\u001b[0m\u001b[1;33m)\u001b[0m\u001b[1;33m\u001b[0m\u001b[1;33m\u001b[0m\u001b[0m\n\u001b[1;32m---> 15\u001b[1;33m     \u001b[1;32mfor\u001b[0m \u001b[0mdiscStorage\u001b[0m \u001b[1;32min\u001b[0m \u001b[0mph\u001b[0m\u001b[1;33m.\u001b[0m\u001b[0miter_content\u001b[0m\u001b[1;33m(\u001b[0m\u001b[1;36m10240\u001b[0m\u001b[1;33m)\u001b[0m\u001b[1;33m:\u001b[0m\u001b[1;33m\u001b[0m\u001b[1;33m\u001b[0m\u001b[0m\n\u001b[0m\u001b[0;32m     16\u001b[0m         \u001b[0mpict\u001b[0m\u001b[1;33m.\u001b[0m\u001b[0mwrite\u001b[0m\u001b[1;33m(\u001b[0m\u001b[0mdiskStorage\u001b[0m\u001b[1;33m)\u001b[0m\u001b[1;33m\u001b[0m\u001b[1;33m\u001b[0m\u001b[0m\n\u001b[0;32m     17\u001b[0m     \u001b[0mpict\u001b[0m\u001b[1;33m.\u001b[0m\u001b[0mclose\u001b[0m\u001b[1;33m(\u001b[0m\u001b[1;33m)\u001b[0m\u001b[1;33m\u001b[0m\u001b[1;33m\u001b[0m\u001b[0m\n",
      "\u001b[1;31mAttributeError\u001b[0m: 'str' object has no attribute 'iter_content'"
     ]
    }
   ],
   "source": [
    "abc = 'https://www.xzw.com'\n",
    "photos = []\n",
    "for axz in titles:\n",
    "    con = axz.a.img['src']\n",
    "    photos.append(abc+con)\n",
    "\n",
    "desDir = 'OUT_14'\n",
    "if os.path.exists(desDir) ==False:\n",
    "    os.mkdir(desDir)\n",
    "\n",
    "print('圖片數量為:',len(photos))\n",
    "\n",
    "for ph in photos:\n",
    "    picture = requests.get(ph)\n",
    "    picture.raise_for_status()\n",
    "    print('%s 圖片下載成功' %ph)\n",
    "    pict = open(os.path.join(desDir,os.path.basename(ph)),'wb')\n",
    "    for discStorage in ph.iter_content(10240):\n",
    "        pict.write(diskStorage)\n",
    "    pict.close()"
   ]
  },
  {
   "cell_type": "code",
   "execution_count": null,
   "metadata": {},
   "outputs": [],
   "source": []
  }
 ],
 "metadata": {
  "kernelspec": {
   "display_name": "Python 3",
   "language": "python",
   "name": "python3"
  },
  "language_info": {
   "codemirror_mode": {
    "name": "ipython",
    "version": 3
   },
   "file_extension": ".py",
   "mimetype": "text/x-python",
   "name": "python",
   "nbconvert_exporter": "python",
   "pygments_lexer": "ipython3",
   "version": "3.7.6"
  }
 },
 "nbformat": 4,
 "nbformat_minor": 2
}
