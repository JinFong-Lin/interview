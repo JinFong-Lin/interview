{
 "cells": [
  {
   "cell_type": "code",
   "execution_count": 1,
   "metadata": {},
   "outputs": [],
   "source": [
    "import hashlib as ha\n",
    "import requests\n",
    "import json\n",
    "import os"
   ]
  },
  {
   "cell_type": "code",
   "execution_count": 2,
   "metadata": {},
   "outputs": [],
   "source": [
    "data= ha.md5()"
   ]
  },
  {
   "cell_type": "code",
   "execution_count": 7,
   "metadata": {},
   "outputs": [],
   "source": [
    "data.update(b'Ming-Chi')"
   ]
  },
  {
   "cell_type": "code",
   "execution_count": 8,
   "metadata": {},
   "outputs": [
    {
     "name": "stdout",
     "output_type": "stream",
     "text": [
      "b'\\\\ Y g\\x8eY\\xa2J\\x02<\\xe4C\\x94\\x9fD'\n",
      "5c205920678e59a24a023ce443949f44\n"
     ]
    }
   ],
   "source": [
    "print(data.digest())\n",
    "print(data.hexdigest())"
   ]
  },
  {
   "cell_type": "code",
   "execution_count": 9,
   "metadata": {},
   "outputs": [],
   "source": [
    "url = 'http://opendata.epa.gov.tw/webapi/Data/REWIQA/?$orderby=SiteName&$skip=0&$top=1000&format=json'\n",
    "headers = {'User-Agent': 'Mozilla/5.0 (Windows NT 10.0; Win64; x64)\\\n",
    "           AppleWebKit/537.36 (KHTML, like Gecko) Chrome/79.0.3945.88 Safari/537.36'}"
   ]
  },
  {
   "cell_type": "code",
   "execution_count": 10,
   "metadata": {},
   "outputs": [
    {
     "name": "stdout",
     "output_type": "stream",
     "text": [
      "下載成功\n"
     ]
    }
   ],
   "source": [
    "try:\n",
    "    html = requests.get(url)\n",
    "    print('下載成功')\n",
    "except Exception as err:\n",
    "    print('下載失敗')"
   ]
  },
  {
   "cell_type": "code",
   "execution_count": 11,
   "metadata": {},
   "outputs": [],
   "source": [
    "fn ='abc.json'\n",
    "with open(fn,'w') as f :\n",
    "    json.dump(html.json(),f)"
   ]
  },
  {
   "cell_type": "code",
   "execution_count": 12,
   "metadata": {},
   "outputs": [],
   "source": [
    "with open(fn) as fnobj:\n",
    "    getdata = json.load(fnobj)  #讀取"
   ]
  },
  {
   "cell_type": "code",
   "execution_count": 13,
   "metadata": {},
   "outputs": [],
   "source": [
    "for getda in getdata:\n",
    "    country = getda['County']\n",
    "    sitename = getda['SiteName']\n",
    "    siteid = getda['SiteId']\n",
    "    ppo = getda['Pollutant']\n",
    "    \n",
    " ##   print('城市名稱 = %s  站台名稱=%s 站台號碼= %s 懸浮粒子= %s ' %(country,sitename,siteid,ppo))"
   ]
  },
  {
   "cell_type": "code",
   "execution_count": 14,
   "metadata": {},
   "outputs": [
    {
     "name": "stdout",
     "output_type": "stream",
     "text": [
      "站台id= 35 PM2.5= 63\n",
      "站台id= 33 PM2.5= 39\n",
      "站台id= 202 PM2.5= 44\n",
      "站台id= 34 PM2.5= 60\n"
     ]
    }
   ],
   "source": [
    "for getda in getdata:\n",
    "    if getda['County'] == '彰化縣':\n",
    "        print('站台id=',getda['SiteId'],'PM2.5=',getda['PM2.5'])"
   ]
  },
  {
   "cell_type": "code",
   "execution_count": 15,
   "metadata": {},
   "outputs": [],
   "source": [
    "data = ha.md5()"
   ]
  },
  {
   "cell_type": "code",
   "execution_count": 16,
   "metadata": {},
   "outputs": [],
   "source": [
    "data.update(html.text.encode('utf-8'))"
   ]
  },
  {
   "cell_type": "code",
   "execution_count": 17,
   "metadata": {
    "scrolled": true
   },
   "outputs": [
    {
     "name": "stdout",
     "output_type": "stream",
     "text": [
      "1b06b99464db22ae846c464651ac0a77\n"
     ]
    }
   ],
   "source": [
    "hadata = data.hexdigest()\n",
    "print(hadata)"
   ]
  },
  {
   "cell_type": "code",
   "execution_count": 18,
   "metadata": {},
   "outputs": [],
   "source": [
    "fn = 'magicHAC'\n",
    "with open (fn ,'w') as fileobj:\n",
    "    fileobj.write(hadata)"
   ]
  },
  {
   "cell_type": "code",
   "execution_count": 31,
   "metadata": {},
   "outputs": [],
   "source": [
    "aqijson = requests.get(url)"
   ]
  },
  {
   "cell_type": "code",
   "execution_count": 45,
   "metadata": {},
   "outputs": [],
   "source": [
    "def save_new():\n",
    "    with open(fn,'w') as f:\n",
    "        json.dump(aqijson.json(),f)\n",
    "\n",
    "        \n",
    "def save_value():\n",
    "    with open(fn_hash,'w') as ff:\n",
    "        ff.write(newhash)\n",
    "\n",
    "def cal_hash():\n",
    "    data = ha.md5()\n",
    "    data.update(aqijson.text.encode('utf-8'))\n",
    "    hasdata = data.hexdigest()\n",
    "    return hasdata"
   ]
  },
  {
   "cell_type": "code",
   "execution_count": 47,
   "metadata": {},
   "outputs": [
    {
     "name": "stdout",
     "output_type": "stream",
     "text": [
      "newhash= 1b06b99464db22ae846c464651ac0a77\n",
      "oldhash \n",
      "已更新\n"
     ]
    }
   ],
   "source": [
    "fn_hash = 'aqijson.text'\n",
    "newhash= cal_hash()\n",
    "if os.path.exists(fn_hash):\n",
    "    newhash= cal_hash()\n",
    "    print('newhash=',newhash)\n",
    "    \n",
    "    with open(fn_hash,'r') as fnobj:\n",
    "        oldhash = fnobj.read()\n",
    "        print('oldhash',oldhash)\n",
    "    if newhash == oldhash:\n",
    "        print('未更新')\n",
    "    else:\n",
    "        print('已更新')\n",
    "        save_new()\n",
    "        save_value()\n",
    "else:\n",
    "    print('第一次啟動')\n",
    "    newvalue  = cal_hash()\n",
    "    print('哈希值=',newhash)\n",
    "    save_value()\n",
    "    save_new()"
   ]
  },
  {
   "cell_type": "code",
   "execution_count": 48,
   "metadata": {},
   "outputs": [],
   "source": [
    "info = 'E:/Donlow/AQI_20200105144220.csv'"
   ]
  },
  {
   "cell_type": "code",
   "execution_count": 49,
   "metadata": {},
   "outputs": [],
   "source": [
    "outfn='6_2.csv'"
   ]
  },
  {
   "cell_type": "code",
   "execution_count": 54,
   "metadata": {},
   "outputs": [],
   "source": [
    "import csv\n",
    "with open(info,encoding='utf-8') as scvfile:\n",
    "    csvreader = csv.reader(scvfile)\n",
    "    listreport = list(csvreader)"
   ]
  },
  {
   "cell_type": "code",
   "execution_count": 55,
   "metadata": {},
   "outputs": [],
   "source": [
    "newlist= []\n",
    "tmplist = []\n",
    "for row in listreport:\n",
    "    tmrlist = [row[1],row[23],row[11],row[0]]\n",
    "    newlist.append(tmrlist)"
   ]
  },
  {
   "cell_type": "code",
   "execution_count": 63,
   "metadata": {},
   "outputs": [
    {
     "name": "stdout",
     "output_type": "stream",
     "text": [
      "城市名稱彰化縣\n",
      "城市名稱新北市\n",
      "城市名稱苗栗縣\n",
      "城市名稱新北市\n",
      "城市名稱臺北市\n",
      "城市名稱臺北市\n",
      "城市名稱臺中市\n",
      "城市名稱桃園市\n",
      "城市名稱高雄市\n",
      "城市名稱高雄市\n",
      "城市名稱臺北市\n",
      "城市名稱桃園市\n",
      "城市名稱高雄市\n",
      "城市名稱雲林縣\n",
      "城市名稱宜蘭縣\n",
      "城市名稱臺北市\n",
      "城市名稱高雄市\n",
      "城市名稱桃園市\n",
      "城市名稱新北市\n",
      "城市名稱臺南市\n",
      "城市名稱嘉義縣\n",
      "城市名稱新北市\n",
      "城市名稱南投縣\n",
      "城市名稱新竹縣\n",
      "城市名稱臺中市\n",
      "城市名稱臺中市\n",
      "城市名稱宜蘭縣\n",
      "城市名稱臺中市\n",
      "城市名稱臺北市\n",
      "城市名稱新北市\n",
      "城市名稱新北市\n",
      "城市名稱高雄市\n",
      "城市名稱花蓮縣\n",
      "城市名稱金門縣\n",
      "城市名稱高雄市\n",
      "城市名稱高雄市\n",
      "城市名稱南投縣\n",
      "城市名稱屏東縣\n",
      "城市名稱屏東縣\n",
      "城市名稱屏東縣\n",
      "城市名稱高雄市\n",
      "城市名稱苗栗縣\n",
      "城市名稱南投縣\n",
      "城市名稱桃園市\n",
      "城市名稱桃園市\n",
      "城市名稱澎湖縣\n",
      "城市名稱連江縣\n",
      "城市名稱高雄市\n",
      "城市名稱高雄市\n",
      "城市名稱基隆市\n",
      "城市名稱雲林縣\n",
      "城市名稱新北市\n",
      "城市名稱雲林縣\n",
      "城市名稱臺南市\n",
      "城市名稱新北市\n",
      "城市名稱高雄市\n",
      "城市名稱新竹縣\n",
      "城市名稱新北市\n",
      "城市名稱臺北市\n",
      "城市名稱新北市\n",
      "城市名稱新竹市\n",
      "城市名稱新北市\n",
      "城市名稱新北市\n",
      "城市名稱嘉義縣\n",
      "城市名稱臺南市\n",
      "城市名稱高雄市\n",
      "城市名稱高雄市\n",
      "城市名稱新北市\n",
      "城市名稱臺北市\n",
      "城市名稱嘉義市\n",
      "城市名稱彰化縣\n",
      "城市名稱彰化縣\n",
      "城市名稱雲林縣\n",
      "城市名稱臺東縣\n",
      "城市名稱臺南市\n",
      "城市名稱臺南市\n",
      "城市名稱高雄市\n",
      "城市名稱屏東縣\n",
      "城市名稱彰化縣\n",
      "城市名稱高雄市\n",
      "城市名稱苗栗縣\n",
      "城市名稱桃園市\n",
      "城市名稱臺中市\n",
      "城市名稱臺東縣\n",
      "城市名稱桃園市\n"
     ]
    }
   ],
   "source": [
    "with open (info , 'w',newline='',encoding=('utf-8')) as csvfile:\n",
    "    csvwrite = csv.writer(csvfile)\n",
    "    for row in newlist:\n",
    "        csvwrite.writerow(row)\n",
    "        if row[0]!='County':\n",
    "            print('城市名稱%s' %row[0])"
   ]
  },
  {
   "cell_type": "code",
   "execution_count": null,
   "metadata": {},
   "outputs": [],
   "source": []
  }
 ],
 "metadata": {
  "kernelspec": {
   "display_name": "Python 3",
   "language": "python",
   "name": "python3"
  },
  "language_info": {
   "codemirror_mode": {
    "name": "ipython",
    "version": 3
   },
   "file_extension": ".py",
   "mimetype": "text/x-python",
   "name": "python",
   "nbconvert_exporter": "python",
   "pygments_lexer": "ipython3",
   "version": "3.7.6"
  }
 },
 "nbformat": 4,
 "nbformat_minor": 2
}
